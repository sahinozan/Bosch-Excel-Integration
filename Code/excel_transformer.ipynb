{
 "cells": [
  {
   "cell_type": "code",
   "execution_count": 36,
   "metadata": {},
   "outputs": [],
   "source": [
    "from __future__ import annotations\n",
    "from importlib.util import find_spec\n",
    "import warnings\n",
    "import subprocess\n",
    "import datetime\n",
    "import sys\n",
    "\n",
    "warnings.filterwarnings(\"ignore\")"
   ]
  },
  {
   "cell_type": "code",
   "execution_count": 37,
   "metadata": {},
   "outputs": [],
   "source": [
    "# check compatibility with Python 3.11\n",
    "if sys.version_info.major != 3:\n",
    "    raise SystemError(\"!!> Python version must be 3.X.X (preferably, 3.11.X)\")\n",
    "if sys.version_info.minor != 11:\n",
    "    print(\"??> This script is written for Python 3.11.X, \"\n",
    "          \"It may not work properly with other versions.\\n\"\n",
    "          \"??> Do you still want to continue? (Y/N)\")\n",
    "    user_input = input(\">>> \")\n",
    "    if user_input == 'Y':\n",
    "        pass\n",
    "    elif user_input == 'N':\n",
    "        print(\">>> Terminating...\")\n",
    "        exit(0)\n",
    "    else:\n",
    "        raise SystemError(\"!!> Invalid input!\")"
   ]
  },
  {
   "cell_type": "code",
   "execution_count": 38,
   "metadata": {},
   "outputs": [],
   "source": [
    "#  check if required packages are installed\n",
    "if find_spec('pandas') is None:\n",
    "    print(\"\\n>>> Installing pandas...\\n\")\n",
    "    subprocess.check_call([sys.executable, '-m', 'pip', 'install', 'pandas', '--disable-pip-version-check'])\n",
    "if find_spec(\"openpyxl\") is None:\n",
    "    print(\"\\n>>> Installing openpyxl...\\n\")\n",
    "    subprocess.check_call([sys.executable, '-m', 'pip', 'install', 'openpyxl', '--disable-pip-version-check'])"
   ]
  },
  {
   "cell_type": "code",
   "execution_count": 39,
   "metadata": {},
   "outputs": [],
   "source": [
    "import pandas as pd\n",
    "import openpyxl\n",
    "from openpyxl.worksheet.dimensions import ColumnDimension, DimensionHolder\n",
    "from openpyxl.utils import get_column_letter"
   ]
  },
  {
   "cell_type": "code",
   "execution_count": 40,
   "metadata": {},
   "outputs": [],
   "source": [
    "# read data source files\n",
    "try:\n",
    "    file = pd.read_excel('../Data/KW47_V00.xlsx')\n",
    "    pipes = pd.read_excel('../Data/Cihazlar - Borular.xlsx')\n",
    "except FileNotFoundError:\n",
    "    print(\"File not found!\")\n",
    "    exit(1)"
   ]
  },
  {
   "cell_type": "code",
   "execution_count": 41,
   "metadata": {},
   "outputs": [],
   "source": [
    "shift_date = file.iloc[4:6, 12: 31: 3].copy()\n",
    "shift_date.iloc[0, :] = shift_date.iloc[0, :].apply(lambda x: x.strftime(\"%d %b %Y\"))\n",
    "shift_date = shift_date.apply(lambda x: f\"{x.iloc[1]} - {x.iloc[0]}\", axis=0)\n",
    "shift_dates = list(shift_date)"
   ]
  },
  {
   "cell_type": "code",
   "execution_count": 42,
   "metadata": {},
   "outputs": [
    {
     "name": "stdout",
     "output_type": "stream",
     "text": [
      "3    Versiyon\n",
      "4          00\n",
      "Name: MOE1 Üretim Sıralaması, dtype: object\n",
      "3    Güncelleme zamanı\n",
      "4    18.11.2022  09:20\n",
      "Name: Unnamed: 8, dtype: object\n"
     ]
    }
   ],
   "source": [
    "version = file.iloc[[3, 4], 7]\n",
    "update_date = file.iloc[[3, 4], 8]\n",
    "print(version)\n",
    "print(update_date)"
   ]
  },
  {
   "cell_type": "code",
   "execution_count": 43,
   "metadata": {},
   "outputs": [],
   "source": [
    "indices = file.iloc[:, [0, 7, 8, 11]].reset_index()\n",
    "work_days = file.iloc[:, 12: 33].reset_index()\n",
    "sheet = pd.concat([indices, work_days], axis=1).iloc[2:, :]"
   ]
  },
  {
   "cell_type": "code",
   "execution_count": 44,
   "metadata": {},
   "outputs": [],
   "source": [
    "sheet = sheet[sheet.iloc[:, 1].notna() & sheet.iloc[:, 2].notna()]\n",
    "sheet.iloc[:, 2] = sheet.iloc[:, 2].astype(str)\n",
    "sheet = sheet[sheet.iloc[:, 2].apply(str.isnumeric)]"
   ]
  },
  {
   "cell_type": "code",
   "execution_count": 45,
   "metadata": {},
   "outputs": [],
   "source": [
    "sheet = sheet[sheet.iloc[:, 6].apply(lambda x: (type(x) != datetime.datetime) and (type(x) != str))]\n",
    "sheet = sheet[sheet.iloc[:, 3].notna()]"
   ]
  },
  {
   "cell_type": "code",
   "execution_count": 46,
   "metadata": {},
   "outputs": [],
   "source": [
    "sheet.drop('index', axis=1, inplace=True)\n",
    "sheet.reset_index(drop=True, inplace=True)"
   ]
  },
  {
   "cell_type": "code",
   "execution_count": 47,
   "metadata": {},
   "outputs": [],
   "source": [
    "initial_indices = [\"Hat\", \"Cihaz TTNr\", \"Cihaz Aile\", \"Toplam Adet\"]\n",
    "shifts = [1, 2, 3]\n",
    "final_indices = [\" - \".join([i, str(j)]) for i in shift_dates for j in shifts]\n",
    "initial_indices.extend(final_indices)"
   ]
  },
  {
   "cell_type": "code",
   "execution_count": 48,
   "metadata": {},
   "outputs": [],
   "source": [
    "sheet = sheet.set_axis(initial_indices, axis=1)"
   ]
  },
  {
   "cell_type": "code",
   "execution_count": 49,
   "metadata": {},
   "outputs": [],
   "source": [
    "sheet[\"Cihaz TTNr\"] = sheet[\"Cihaz TTNr\"].astype(str)\n",
    "pipes[\"Cihaz\"] = pipes[\"Cihaz\"].astype(str)"
   ]
  },
  {
   "cell_type": "code",
   "execution_count": 50,
   "metadata": {},
   "outputs": [],
   "source": [
    "sheet = sheet.merge(pipes, left_on=\"Cihaz TTNr\", right_on=\"Cihaz\", how=\"inner\")\n",
    "sheet.drop(\"Cihaz\", axis=1, inplace=True)\n",
    "sheet.insert(3, 'Boru', sheet.pop('Boru'))\n",
    "sheet[\"Cihaz TTNr\"] = sheet[\"Cihaz TTNr\"].astype(\"int64\")"
   ]
  },
  {
   "cell_type": "code",
   "execution_count": 51,
   "metadata": {},
   "outputs": [],
   "source": [
    "indices = [\"Hat\", \"Cihaz TTNr\", \"Cihaz Aile\", \"Toplam Adet\"]"
   ]
  },
  {
   "cell_type": "code",
   "execution_count": 52,
   "metadata": {},
   "outputs": [],
   "source": [
    "df = pd.DataFrame(columns=pd.MultiIndex.from_product([shift_dates, shifts]),\n",
    "                  index=range(sheet.shape[0]))\n",
    "df = pd.concat([pd.DataFrame(columns=pd.MultiIndex.from_product([indices,\n",
    "                                                                 [\"\" for _ in range(len(indices))]])), df], axis=1)"
   ]
  },
  {
   "cell_type": "code",
   "execution_count": 53,
   "metadata": {},
   "outputs": [],
   "source": [
    "dates_df = df.iloc[:, 16:]\n",
    "initial_df = df.swaplevel(axis=1, i=0, j=1).iloc[:, :16]\n",
    "initial_df = initial_df.loc[:, ~initial_df.columns.duplicated()]  # type: ignore\n",
    "df = pd.concat([initial_df, dates_df], axis=1)"
   ]
  },
  {
   "cell_type": "code",
   "execution_count": 54,
   "metadata": {},
   "outputs": [],
   "source": [
    "sheet.iloc[:, 4:] = sheet.iloc[:, 4:].apply(lambda x: x * sheet.iloc[:, -1], axis=0)"
   ]
  },
  {
   "cell_type": "code",
   "execution_count": 55,
   "metadata": {},
   "outputs": [],
   "source": [
    "sheet.drop(\"Miktar\", axis=1, inplace=True)\n",
    "sheet.drop(\"Toplam Adet\", axis=1, inplace=True)"
   ]
  },
  {
   "cell_type": "code",
   "execution_count": 56,
   "metadata": {},
   "outputs": [],
   "source": [
    "df.iloc[:, :] = sheet.iloc[:, :]"
   ]
  },
  {
   "cell_type": "code",
   "execution_count": 57,
   "metadata": {},
   "outputs": [],
   "source": [
    "df = df.set_index((\"\", \"Hat\")).rename_axis(None, axis=0)"
   ]
  },
  {
   "cell_type": "code",
   "execution_count": 58,
   "metadata": {},
   "outputs": [],
   "source": [
    "# format the Excel column dimensions\n",
    "def excel_formatter(file_path: str):\n",
    "    wb = openpyxl.load_workbook(file_path)\n",
    "    ws = wb.active\n",
    "    ws.delete_rows(3)\n",
    "\n",
    "    dim_holder = DimensionHolder(worksheet=ws)\n",
    "\n",
    "    for col in range(ws.min_column, ws.max_column + 1):\n",
    "        dim_holder[get_column_letter(col)] = ColumnDimension(ws, min=col, max=col, width=15)\n",
    "\n",
    "    ws.column_dimensions = dim_holder\n",
    "    wb.save(file_path)"
   ]
  },
  {
   "cell_type": "code",
   "execution_count": 59,
   "metadata": {},
   "outputs": [
    {
     "data": {
      "text/plain": [
       "'Versiyon - 00'"
      ]
     },
     "execution_count": 59,
     "metadata": {},
     "output_type": "execute_result"
    }
   ],
   "source": [
    "version_value = version.iloc[0] + \" - \" + version.iloc[1]\n",
    "version_value"
   ]
  },
  {
   "cell_type": "code",
   "execution_count": 60,
   "metadata": {},
   "outputs": [],
   "source": [
    "# add the Excel version to the file\n",
    "def excel_version(file_path: str):\n",
    "    wb = openpyxl.load_workbook(file_path)\n",
    "    ws = wb.active\n",
    "    # ws.cell(row=1, column=1).value = str(update_date[0])\n",
    "    # ws.cell(row=1, column=2).value = str(update_date[1])\n",
    "    ws.cell(row=2, column=1).value = version_value\n",
    "    wb.save(file_path)"
   ]
  },
  {
   "cell_type": "code",
   "execution_count": 61,
   "metadata": {},
   "outputs": [
    {
     "name": "stdout",
     "output_type": "stream",
     "text": [
      ">>>\n",
      ">>> Conversion started...\n",
      ">>> Conversion completed successfully!\n",
      ">>> Excel Formatting started...\n",
      ">>> Excel Formatting completed successfully!\n",
      ">>> Terminating...\n"
     ]
    },
    {
     "ename": "",
     "evalue": "",
     "output_type": "error",
     "traceback": [
      "\u001b[1;31mThe Kernel crashed while executing code in the the current cell or a previous cell. Please review the code in the cell(s) to identify a possible cause of the failure. Click <a href='https://aka.ms/vscodeJupyterKernelCrash'>here</a> for more info. View Jupyter <a href='command:jupyter.viewOutput'>log</a> for further details."
     ]
    }
   ],
   "source": [
    "# write the dataframe to an Excel file\n",
    "try:\n",
    "    print(\">>>\\n>>> Conversion started...\")\n",
    "    df.to_excel(\"../Data/source.xlsx\")\n",
    "    print(\">>> Conversion completed successfully!\")\n",
    "    print(\">>> Excel Formatting started...\")\n",
    "    excel_formatter(file_path=\"../Data/source.xlsx\")\n",
    "    excel_version(file_path=\"../Data/source.xlsx\")\n",
    "    print(\">>> Excel Formatting completed successfully!\")\n",
    "except PermissionError:\n",
    "    print(\">>> Conversion failed!\")\n",
    "finally:\n",
    "    print(\">>> Terminating...\")\n",
    "    exit(0)"
   ]
  }
 ],
 "metadata": {
  "kernelspec": {
   "display_name": "py311",
   "language": "python",
   "name": "python3"
  },
  "language_info": {
   "codemirror_mode": {
    "name": "ipython",
    "version": 3
   },
   "file_extension": ".py",
   "mimetype": "text/x-python",
   "name": "python",
   "nbconvert_exporter": "python",
   "pygments_lexer": "ipython3",
   "version": "3.11.0"
  },
  "orig_nbformat": 4,
  "vscode": {
   "interpreter": {
    "hash": "49bd3cdb6f4a848ea37517d4143482dec33a6c99f231bc41f9e792b7bd19a34e"
   }
  }
 },
 "nbformat": 4,
 "nbformat_minor": 2
}
